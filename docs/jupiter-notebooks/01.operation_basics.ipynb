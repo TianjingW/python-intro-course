{
 "cells": [
  {
   "cell_type": "markdown",
   "metadata": {},
   "source": [
    "# Лекция 2\n",
    "\n",
    "## Что мы уже сделали?\n",
    "\n",
    "Довольно много:\n",
    "\n",
    "1. Установить Python, запустить его.\n",
    "2. Установить пакеты `ipython`, `scipy`, `numpy`, `jupyter`, `matplotlib`, `pandas`.\n",
    "3. Запустить IPython, почувствовать разницу.\n",
    "4. Судя по тому, что мы видим, запустить Jupyter\n",
    "\n",
    "## Что нам предстоит?\n",
    "\n",
    "1. Впечатлиться тому, какой Jupyter крутой (правда же?)\n",
    "2. Убеждённым *радикальным* математикам и физикам — порадоваться тому, насколько он похож на математические пакеты наподобие Mathematica™ или Maple™.\n",
    "3. Осознать, что всё-таки Standalone-программа — может быть не так радостно, но более понятно и более зрело.\n",
    "\n",
    "![Гагарин](https://upload.wikimedia.org/wikipedia/commons/5/54/Yuri_Gagarin_in_Sweden%2C_1964_%28cropped%29_%282%29.jpg)\n",
    "\n",
    "# Поехали!"
   ]
  },
  {
   "cell_type": "markdown",
   "metadata": {},
   "source": [
    "## Ой, как красиво!\n",
    "\n",
    "А как это?..\n",
    "\n",
    "* Markdown — https://www.markdownguide.org/\n",
    "* Формулы наподобие $ f(x) = f(a)+\\sum_{k=1}^\\infty {f^{(k)} (a) \\over k!} (x - a)^k $ — https://en.wikibooks.org/wiki/LaTeX/Mathematics\n",
    "* Literate Programming — http://www.literateprogramming.com/"
   ]
  },
  {
   "cell_type": "markdown",
   "metadata": {},
   "source": [
    "## Основные операторы\n",
    "\n",
    "... и чуть-чуть самого Питона. Да, наконец не абстрактные рассказы."
   ]
  },
  {
   "cell_type": "code",
   "execution_count": null,
   "metadata": {},
   "outputs": [],
   "source": [
    "print(\"Saluton, la universo!\")\n",
    "name = input(\"Как звать тебя? \")\n",
    "print(\"И ты, \" + name + \", здравствуй!\")"
   ]
  },
  {
   "cell_type": "markdown",
   "metadata": {},
   "source": [
    "Здесь мы:\n",
    "1. Трижды вызвали две **функции**. *Какие?*\n",
    "2. Произвели **ввод** и **вывод**, воспользовавшись предопределёнными **потоками консоли** `STDIN` и `STDOUT`. *Где?*\n",
    "3. Создали **переменную**, поместили в неё **строку**, **конкатенировали** несколько строк.\n",
    "\n",
    "Вообще настоящая текстовая консоль — примерно такая штука:\n",
    "\n",
    "![Консоль DEC VT05](https://upload.wikimedia.org/wikipedia/commons/thumb/9/9e/VT05.jpg/640px-VT05.jpg)\n",
    "\n",
    "Но если меньше повезёт, то с принтером и бумагой, а не с дисплеем.\n",
    "\n",
    "У консоли ещё есть поток `STDERR`, предназначенный для сообщений об ошибках:"
   ]
  },
  {
   "cell_type": "code",
   "execution_count": null,
   "metadata": {},
   "outputs": [],
   "source": [
    "import sys  # \"Подключение\" библиотечного модуля\n",
    "print('Это пойдёт в поток \"STDERR\", возможно консоль выделит его цветом.', file=sys.stderr)  # Заметили? Кавычки могут быть разными."
   ]
  },
  {
   "cell_type": "markdown",
   "metadata": {},
   "source": [
    "# Чуть-чуть встроенных типов и операций над ними\n",
    "\n",
    "Самое основное — булев тип"
   ]
  },
  {
   "cell_type": "code",
   "execution_count": null,
   "metadata": {},
   "outputs": [],
   "source": [
    "b = True\n",
    "print(\"1.\", b, not b, b or not b, b and not b)\n",
    "print(\"2.\", 1 < 2, 1 <= 2 < 4, 1 > 2)"
   ]
  },
  {
   "cell_type": "markdown",
   "metadata": {},
   "source": [
    "Теперь числа, иногда с неожиданностями"
   ]
  },
  {
   "cell_type": "code",
   "execution_count": null,
   "metadata": {},
   "outputs": [],
   "source": [
    "i = 2\n",
    "print(\"1.\", i, 2**i, i**128)\n",
    "print(\"2.\", 1//i, 1/i)\n",
    "print(\"3.\", 0.1, 0.1 + 0.1, 0.1 + 0.1 + 0.1)\n",
    "print(\"4.\", max(1,2))\n",
    "\n",
    "print(max(1+0j,2+0j))  # выдаст ошибку — язык сильно типизированный"
   ]
  },
  {
   "cell_type": "markdown",
   "metadata": {},
   "source": [
    "Теперь кортежи, списки, диапазоны и вырезки"
   ]
  },
  {
   "cell_type": "code",
   "execution_count": null,
   "metadata": {},
   "outputs": [],
   "source": [
    "x, y = 1, 2\n",
    "\n",
    "y, x = x, y\n",
    "\n",
    "t = x, y\n",
    "\n",
    "print(\"1.\", t, t[0], t[1])\n",
    "print(\"2.\", t[-1])\n",
    "\n",
    "l = [30, 10, 20, 35, 5, 12]\n",
    "print(\"3.\", l[1:3], l[1:5:2], sorted(l))\n",
    "\n",
    "r1, r2, r3 = range(3), range(1,3), range(1,5,2)\n",
    "print(\"4.\", r1, r2, r3)\n",
    "print(\"5.\", list(r1), list(r2), list(r3))\n",
    "\n",
    "for i in range(3):\n",
    "    print(\"6.\", i)\n",
    "\n",
    "print([2**n for n in range(17) if n != 13])  # для суеверных"
   ]
  },
  {
   "cell_type": "markdown",
   "metadata": {},
   "source": [
    "set, dict"
   ]
  },
  {
   "cell_type": "code",
   "execution_count": null,
   "metadata": {},
   "outputs": [],
   "source": [
    "s = {1, 3, 5, \"q\"}  # можно, но не стоит хранить объекты разной природы\n",
    "d = {1: \"x\", 4: \"y\", \"5\": 10}  # аналогично\n",
    "what_is_it = {}\n",
    "\n",
    "print(\"1.\", s, d, type(what_is_it))\n",
    "\n",
    "print(\"2.\", 3 in s, \"x\" in d.keys())\n",
    "\n",
    "print(\"3.\", s.difference([3, \"q\"]))\n",
    "\n",
    "for k in d:\n",
    "    print(\"4.\", k, d[k])\n",
    "\n",
    "print(\"5.\", [e * 2 for e in s])"
   ]
  },
  {
   "cell_type": "markdown",
   "metadata": {},
   "source": [
    "str, bytes"
   ]
  },
  {
   "cell_type": "code",
   "execution_count": null,
   "metadata": {},
   "outputs": [],
   "source": [
    "юникодная_строка = \"Ѣ,€,௵,𦈘\"\n",
    "print(\"1.\", юникодная_строка, len(юникодная_строка))\n",
    "\n",
    "байтики = юникодная_строка.encode('utf-8')\n",
    "print(\"2.\", байтики, len(байтики))\n",
    "\n",
    "print(\"3.\", байтики.decode('utf-8'))\n",
    "\n",
    "import sys\n",
    "\n",
    "print(\"5.\", \"R\" * 3)\n",
    "print(\"6.\", sys.getsizeof(\"f\"*1000), sys.getsizeof(\"б\"*1000), sys.getsizeof(\"𦈘\"*1000))"
   ]
  },
  {
   "cell_type": "markdown",
   "metadata": {},
   "source": [
    "функции"
   ]
  },
  {
   "cell_type": "code",
   "execution_count": null,
   "metadata": {},
   "outputs": [],
   "source": [
    "def fact1(n):\n",
    "    r = 1\n",
    "    for i in range(1, n + 1):\n",
    "        r *= i\n",
    "    return r\n",
    "\n",
    "\n",
    "def fact2(n):\n",
    "    if n <= 1:\n",
    "        return 1\n",
    "    else:\n",
    "        return n * fact2(n - 1)\n",
    "    \n",
    "\n",
    "def fact3(n):\n",
    "    return 1 if n <= 1 else n * fact3(n - 1)\n",
    "\n",
    "\n",
    "fact4 = lambda n: 1 if n <= 1 else n * fact4(n - 1)\n",
    "\n",
    "\n",
    "print(fact1(6), fact2(6), fact3(6), fact4(6))"
   ]
  },
  {
   "cell_type": "markdown",
   "metadata": {},
   "source": [
    "Как ни странно, мы на самом деле уже можем писать программы. Когда знаем, что хотим в них написать =).\n",
    "\n",
    "P.S. Ещё немного знаний — про встроенные функции: https://docs.python.org/3.7/library/functions.html"
   ]
  }
 ],
 "metadata": {
  "interpreter": {
   "hash": "aee8b7b246df8f9039afb4144a1f6fd8d2ca17a180786b69acc140d282b71a49"
  },
  "kernelspec": {
   "display_name": "Python 3.10.0 64-bit",
   "name": "python3"
  },
  "language_info": {
   "codemirror_mode": {
    "name": "ipython",
    "version": 3
   },
   "file_extension": ".py",
   "mimetype": "text/x-python",
   "name": "python",
   "nbconvert_exporter": "python",
   "pygments_lexer": "ipython3",
   "version": "3.10.0"
  }
 },
 "nbformat": 4,
 "nbformat_minor": 2
}
