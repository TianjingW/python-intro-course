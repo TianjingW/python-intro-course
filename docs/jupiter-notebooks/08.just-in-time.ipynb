{
 "cells": [
  {
   "cell_type": "markdown",
   "metadata": {},
   "source": [
    "# Just-in-Time компиляция\n",
    "\n",
    "«Как раз вовремя» — компиляция, при которой машинный код геенрируется по мере исполнения программы для её критических с точки зрения производительности участков — обычно функций, реже — циклов.\n",
    "\n",
    "Компиляция происходит при первом вызове, поэтому для того, чтобы измерить производительность JIT, следует сперва вызвать функцию «вхолостую», можно на данных небольшого объёма.\n",
    "\n",
    "Некоторые реализации Python ([PyPy](https://www.pypy.org/)) содержат JIT-компилятор в дистрибутиве. Для CPython можно воспользоваться пакетом [Numba](https://numba.pydata.org/): `pip install numba`."
   ]
  },
  {
   "cell_type": "code",
   "execution_count": 7,
   "metadata": {},
   "outputs": [],
   "source": [
    "from __future__ import annotations\n",
    "from numba import jit, prange\n",
    "import numpy\n",
    "import numpy.random\n",
    "\n",
    "random_m = numpy.matrix(numpy.random.rand(300, 30000))\n",
    "heat_m = numpy.zeros((1, 1))\n",
    "\n",
    "def sum_matrix_nojit(m: numpy.matrix)-> numpy.float:\n",
    "    s = 0.0\n",
    "    d0, d1 = m.shape\n",
    "    for r in range(d0):\n",
    "        for c in range(d1):\n",
    "            s += m[r, c]\n",
    "    return s\n",
    "\n",
    "\n",
    "@jit(nopython=True, fastmath=True)\n",
    "def sum_matrix_jit(m: numpy.matrix)-> numpy.float:\n",
    "    s = 0.0\n",
    "    d0, d1 = m.shape\n",
    "    for r in range(d0):\n",
    "        for c in range(d1):\n",
    "            s += m[r, c]\n",
    "    return s\n",
    "\n",
    "\n",
    "@jit(nopython=True, parallel=True, fastmath=True)\n",
    "def sum_matrix_jit_par(m: numpy.matrix)-> numpy.float:\n",
    "    s = 0.0\n",
    "    d0, d1 = m.shape\n",
    "    for r in prange(d0):\n",
    "        sc = 0.0\n",
    "        for c in range(d1):\n",
    "            sc += m[r, c]\n",
    "        s += sc\n",
    "    return s"
   ]
  },
  {
   "cell_type": "code",
   "execution_count": 8,
   "metadata": {},
   "outputs": [
    {
     "name": "stdout",
     "output_type": "stream",
     "text": [
      "9.38 s ± 125 ms per loop (mean ± std. dev. of 7 runs, 1 loop each)\n",
      "6.98 ms ± 94.3 µs per loop (mean ± std. dev. of 7 runs, 100 loops each)\n",
      "6.83 ms ± 422 µs per loop (mean ± std. dev. of 7 runs, 100 loops each)\n"
     ]
    }
   ],
   "source": [
    "%timeit sum_matrix_nojit(random_m)\n",
    "\n",
    "sum_matrix_jit(heat_m)  # give it a heat\n",
    "%timeit sum_matrix_jit(random_m)\n",
    "\n",
    "sum_matrix_jit_par(heat_m)  # give it a heat\n",
    "%timeit sum_matrix_jit_par(random_m)"
   ]
  },
  {
   "cell_type": "code",
   "execution_count": null,
   "metadata": {},
   "outputs": [],
   "source": []
  }
 ],
 "metadata": {
  "kernelspec": {
   "display_name": "Python 3",
   "language": "python",
   "name": "python3"
  },
  "language_info": {
   "codemirror_mode": {
    "name": "ipython",
    "version": 3
   },
   "file_extension": ".py",
   "mimetype": "text/x-python",
   "name": "python",
   "nbconvert_exporter": "python",
   "pygments_lexer": "ipython3",
   "version": "3.9.1"
  }
 },
 "nbformat": 4,
 "nbformat_minor": 4
}
