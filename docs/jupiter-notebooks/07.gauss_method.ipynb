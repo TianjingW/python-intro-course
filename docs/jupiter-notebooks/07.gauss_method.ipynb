{
 "cells": [
  {
   "cell_type": "markdown",
   "metadata": {},
   "source": [
    "![](https://upload.wikimedia.org/wikipedia/commons/thumb/9/9b/Carl_Friedrich_Gauss.jpg/330px-Carl_Friedrich_Gauss.jpg)\n",
    "\n",
    "# Описание метода\n",
    "\n",
    "Даны матрица $A$ размером $N\\times N$, вектор $B$ высотой $N$. Требуется найти вектор $X$ такой, что $AX=B$.\n",
    "\n",
    "Без терминологии линейной алгебры это записывается, как:\n",
    "\n",
    "$\n",
    "\\begin{array}{lcr}\n",
    "a_{11}x_1+\\ldots+a_{1N}x_N &=& b_1 \\\\\n",
    "\\ldots & & \\\\\n",
    "a_{N1}x_1+\\ldots+a_{NN}x_N &=& b_N \\\\\n",
    "\\end{array}\n",
    "$\n",
    "\n",
    "## Прямой ход\n",
    "\n",
    "Из второго уравнения вычитаем первое, умноженное на $\\frac{a_{21}}{a_{11}}$. Из третьего вычитаем первое, умноженное на $\\frac{a_{31}}{a_{11}}$. И т.д. до $N$-го. Получаем систему уравнений следующего вида.\n",
    "\n",
    "$\n",
    "\\begin{array}{lcr}\n",
    "a_{11}&x_1 +& a_{12} x_2 +\\ldots+a_{1N}x_N &=& b_1 \\\\\n",
    "0 &x_1 +& a'_{22} x_2 +\\ldots+a'_{1N}x_N &=& b'_1 \\\\\n",
    "& \\ldots & & \\\\\n",
    "0 &x_1 +& a'_{N2} x_2 +\\ldots+a'_{NN}x_N &=& b'_N \\\\\n",
    "\\end{array}\n",
    "$\n",
    "\n",
    "Затем из третьего уравнения вычитаем второе, умноженное на $\\frac{a_{32}}{a_{22}}$.\n",
    "\n",
    "И т.д., пока не выполним такое же действие над последней строкой.\n",
    "\n",
    "В итоге мы получим систему уравнений следующего вида.\n",
    "\n",
    "$\n",
    "\\begin{array}{lcr}\n",
    "a_{11}& x_1 +& a_{12}   & x_2 + & a''_{13} & x_3 + \\ldots + a_{1N}   x_N &=& b_1 \\\\\n",
    "0     & x_1 +& a''_{22} & x_2 + & a''_{23} & x_3 + \\ldots + a''_{2N} x_N &=& b''_1 \\\\\n",
    "0     & x_1 +& 0        & x_2 + & a''_{33} & x_3  +\\ldots + a''_{3N} x_N &=& b''_3 \\\\\n",
    "0     & x_1 +& 0        & x_2 + & 0        & x_3 + \\ldots + a''_{4N} x_N &=& b''_4 \\\\\n",
    "& & & \\ldots & & & & \\\\\n",
    "0 & x_1 +& & \\ldots & +                  & 0 x_{N-1} + a''_{NN} x_N &=& b''_N \\\\\n",
    "\\end{array}\n",
    "$\n",
    "\n",
    "\n",
    "## Обратный ход\n",
    "\n",
    "Очевидно, $x_N = \\frac{b''_N}{a''_{NN}}$.\n",
    "\n",
    "Далее, $x_i = \\frac{b''_i - \\sum_{j=i+1}^{N} a''_{ij}x_j}{a_{ii}}$\n",
    "\n",
    "# Прямой и обратный ход в вектроной форме\n",
    "\n",
    "Интересно? Тогда см. ниже. Неинтересно? Тоже см. ниже.\n",
    "\n",
    "# Задание\n",
    "\n",
    "Предлагается реализовать слкдующие недостающие функции"
   ]
  },
  {
   "cell_type": "code",
   "execution_count": 22,
   "metadata": {},
   "outputs": [
    {
     "name": "stdout",
     "output_type": "stream",
     "text": [
      "[0.8490566  0.05660377 0.47169811 1.45283019]\n",
      "Макс отклонение компоненты решения: 0.0\n"
     ]
    }
   ],
   "source": [
    "from numpy import array\n",
    "from numpy.linalg import norm\n",
    "from numpy.linalg import solve as solve_out_of_the_box\n",
    "\n",
    "def gauss(a, b):\n",
    "    a = a.copy()\n",
    "    b = b.copy()\n",
    "\n",
    "    def forward():\n",
    "        # do something to a and b\n",
    "        ...\n",
    "\n",
    "    def backward():\n",
    "        x = np.zeros(len(b), dtype=float)\n",
    "        # then do something to a and b\n",
    "        ...\n",
    "        return x\n",
    "\n",
    "    forward()\n",
    "    x = backward()\n",
    "    return x\n",
    "\n",
    "a = array([\n",
    "    [1.5, 2.0, 1.5, 2.0],\n",
    "    [3.0, 2.0, 4.0, 1.0],\n",
    "    [1.0, 6.0, 0.0, 4  ],\n",
    "    [2.0, 1.0, 4.0, 3  ]\n",
    "], dtype=float)\n",
    "\n",
    "b = array([5, 6, 7, 8], dtype=float)\n",
    "\n",
    "oob_solution = solve_out_of_the_box(a, b)\n",
    "solution = gauss(ab)\n",
    "\n",
    "print(solution)\n",
    "print(\"Макс отклонение компоненты решения:\", norm(solution-oob_solution, ord=1))"
   ]
  },
  {
   "cell_type": "markdown",
   "metadata": {},
   "source": [
    "# Прямой и обратный ход в векторной форме\n",
    "\n",
    "Очевидно, что на прямом ходе мы оперируем целиком уравнениями (включая свободные члены): умножаем всё уравнение на число, вычитаем одно уравнение из другого и т.д., т.е. оперируем целыми уравнениями, (строками матрицы), а не отдельными коэффициентами. При вычислениях это приводит к избыточности, но в случае, если компьютер может выполнять векторные вычисления (т.е. обрабатывать строку матрицы, как одно число), это даёт большое ускорение.\n",
    "\n",
    "Сразу скажем, что реализация NumPy «из коробки» так не умеет. «Убедить» её это делать, пусть и не «из коробки», можно, но это не тема данного блокнота.\n",
    "\n",
    "Итак, пусть у нас $d$ уравнений. $\\mathrm{AB}$ — матрица из $d$ строк и $d+1$ столбцов, у которой правый слобец состоит из свободных членов уравнений. Запишем алгоритм в «императивной» форме.\n",
    "\n",
    "$ab_i$ — строка, $ab_{i,j}$ — элемент матрицы.\n",
    "\n",
    "## Прямой ход\n",
    "\n",
    "\n",
    "$ab_1 \\gets \\frac{ ab_1 }{ ab_{1,1}}$ — делаем 1 в левом верхнем углу\n",
    "\n",
    "Далее для строк c индексами $j \\in [2, d]$: $ab_j \\gets ab_j - ab_1 * ab_{j,1}$ — вычитаем первую строку (у неё уже 1 в начале), умноженную на первый элемент $j$-й строки, делая первый элемент равным 0.\n",
    "\n",
    "$ab_2 \\gets ab_2 / ab_{2, 2}$ — делаем $1$ «почти» в левом верхнем углу.\n",
    "\n",
    "и т.д.\n",
    "\n",
    "В итоге прямого хода получаем $\\mathrm{AB}$ с единицами на главной диагонали $A$ и нулями ниже её.\n",
    "\n",
    "## Обратный ход\n",
    "\n",
    "Для $i=d-1, \\ldots, 1$ повторяем следующее.\n",
    "\n",
    "$ab_i \\gets ab_i - \\sum_{j=i+1}^d ab_j * ab_{i, j}$.\n",
    "\n",
    "## Результат\n",
    "\n",
    "По итогам обратного хода получем $\\mathrm{AB}$ такую, что $A$ — единичная матрица, а $B$ — решение системы."
   ]
  },
  {
   "cell_type": "code",
   "execution_count": 15,
   "metadata": {},
   "outputs": [
    {
     "name": "stdout",
     "output_type": "stream",
     "text": [
      "[0.8490566  0.05660377 0.47169811 1.45283019]\n",
      "Макс отклонение компоненты решения: 3.635980405647388e-15\n"
     ]
    }
   ],
   "source": [
    "from numpy import array, concatenate\n",
    "from numpy.linalg import norm\n",
    "from numpy.linalg import solve as solve_out_of_the_box\n",
    "\n",
    "a = array([\n",
    "    [1.5, 2.0, 1.5, 2.0],\n",
    "    [3.0, 2.0, 4.0, 1.0],\n",
    "    [1.0, 6.0, 0.0, 4  ],\n",
    "    [2.0, 1.0, 4.0, 3  ]\n",
    "], dtype=float)\n",
    "\n",
    "b = array([5, 6, 7, 8], dtype=float)\n",
    "\n",
    "def vector_gauss(a, b):\n",
    "    ab = concatenate((a, array([b]).T), axis=1)  # concatenate заодно и скопирует\n",
    "    d = len(ab)  # размер по старшему измерению\n",
    "\n",
    "    # прямой\n",
    "    for i in range(d):\n",
    "        ab_ii = ab[i, i]\n",
    "        ...\n",
    "    ...\n",
    "    # запрограмируйте!\n",
    "\n",
    "    # обратный\n",
    "    for i in range(d - 1, -1, -1):\n",
    "        ...\n",
    "    ...\n",
    "    # запрограмируйте!\n",
    "\n",
    "    x = ab[:, -1]  # Последний столбец\n",
    "    return x\n",
    "\n",
    "\n",
    "\n",
    "solution = vector_gauss(a, b)\n",
    "oob_solution = solve_out_of_the_box(a, b)\n",
    "\n",
    "print(solution)\n",
    "print(\"Макс отклонение компоненты решения:\", norm(solution-oob_solution, ord=1))"
   ]
  },
  {
   "cell_type": "markdown",
   "metadata": {},
   "source": [
    "## Проверим «серьёзно»\n",
    "\n",
    "Подготовимся"
   ]
  },
  {
   "cell_type": "code",
   "execution_count": 21,
   "metadata": {},
   "outputs": [],
   "source": [
    "from numpy.linalg import norm, det\n",
    "from numpy.linalg import solve as solve_out_of_the_box\n",
    "from numpy.random import uniform\n",
    "\n",
    "N=100\n",
    "SMALL = 1e-5\n",
    "\n",
    "def test_error(solver_function):\n",
    "    # Сгенерируем хорошо обусловленную систему\n",
    "    while True:\n",
    "        a = uniform(0.0, 1.0, (N, N))\n",
    "        b = uniform(0.0, 1.0, (N,  ))\n",
    "\n",
    "        d = det(a)\n",
    "        if abs(d) <= SMALL:  # Определитель маленький — плохо\n",
    "            # print(f\"det: {d}\")\n",
    "            continue  # Попробуем ещё\n",
    "        if d < 0.0:  # Отрицательный — поменяем знак\n",
    "            # print(f\"det: {d}\")\n",
    "            a = -a\n",
    "\n",
    "        try:\n",
    "            oob_solution = solve_out_of_the_box(a, b)\n",
    "        except Exception as e:  # Всё-таки система плохая\n",
    "            # print(f\"exc: {e}\")\n",
    "            continue  # Попробуем ещё\n",
    "\n",
    "        sb = a @ oob_solution\n",
    "        if norm(sb - b, ord=1) > SMALL:\n",
    "            # print(\"Bad solution...\")\n",
    "            continue  # Всё же не очень система получилась =)\n",
    "        \n",
    "        break # Всё, считаем, что мы случайно сгенерировали хорошую систему\n",
    "\n",
    "    tested_solution = solver_function(a, b)\n",
    "    return norm(tested_solution - oob_solution, ord=1)"
   ]
  },
  {
   "cell_type": "markdown",
   "metadata": {},
   "source": [
    "И собственно проверим"
   ]
  },
  {
   "cell_type": "code",
   "execution_count": 22,
   "metadata": {},
   "outputs": [
    {
     "data": {
      "text/plain": [
       "4.5222384864596066e-11"
      ]
     },
     "execution_count": 22,
     "metadata": {},
     "output_type": "execute_result"
    }
   ],
   "source": [
    "test_error(vector_gauss)"
   ]
  },
  {
   "cell_type": "code",
   "execution_count": null,
   "metadata": {},
   "outputs": [],
   "source": []
  }
 ],
 "metadata": {
  "kernelspec": {
   "display_name": "Python 3 (ipykernel)",
   "language": "python",
   "name": "python3"
  },
  "language_info": {
   "codemirror_mode": {
    "name": "ipython",
    "version": 3
   },
   "file_extension": ".py",
   "mimetype": "text/x-python",
   "name": "python",
   "nbconvert_exporter": "python",
   "pygments_lexer": "ipython3",
   "version": "3.10.2"
  }
 },
 "nbformat": 4,
 "nbformat_minor": 4
}
