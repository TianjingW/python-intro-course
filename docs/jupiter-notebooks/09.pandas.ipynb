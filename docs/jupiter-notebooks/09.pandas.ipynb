{
 "cells": [
  {
   "cell_type": "markdown",
   "metadata": {},
   "source": [
    "# Работа с массивами данных при помощи Pandas\n",
    "\n",
    "Нам понадобится `pip install pandas scipy tables vitables`.\n",
    "\n",
    "*Возможно `tables` потребуется установить вручную:*\n",
    "\n",
    "1. https://www.lfd.uci.edu/~gohlke/pythonlibs/#pytables\n",
    "2. Скачать `.whl`\n",
    "3. `pip install xxxxxxxxxxxxx.whl`\n",
    "4. Повторить всё из \"нам понадобится\"\n",
    "\n",
    "Из дополнительных материалов рекомендуется этот текст: https://khashtamov.com/ru/pandas-introduction/\n",
    "\n",
    "Мы немножко попробуем, как [Карлсон](https://web.archive.org/web/20190305185555if_/https://cs10.pikabu.ru/post_img/2018/07/10/4/1531199339121474094.jpg).\n",
    "\n",
    "Будем сразу играть за две стороны. Точнее за три. За хорошего математика, за плохого математика и за себя.\n",
    "\n",
    "## Хороший математик\n",
    "\n",
    "Откуда-то взял числа, нормально распределённые. Наверное он [кидал монетку 50 раз по 25 бросков](https://ru.wikipedia.org/wiki/%D0%A6%D0%B5%D0%BD%D1%82%D1%80%D0%B0%D0%BB%D1%8C%D0%BD%D0%B0%D1%8F_%D0%BF%D1%80%D0%B5%D0%B4%D0%B5%D0%BB%D1%8C%D0%BD%D0%B0%D1%8F_%D1%82%D0%B5%D0%BE%D1%80%D0%B5%D0%BC%D0%B0) и каждый раз записывал среднее количество орлов."
   ]
  },
  {
   "cell_type": "code",
   "execution_count": 15,
   "metadata": {},
   "outputs": [
    {
     "data": {
      "image/png": "[encoded data removed]",
      "text/plain": [
       "<Figure size 432x288 with 1 Axes>"
      ]
     },
     "metadata": {
      "needs_background": "light"
     },
     "output_type": "display_data"
    }
   ],
   "source": [
    "%matplotlib inline  \n",
    "\n",
    "import pandas\n",
    "import random\n",
    "\n",
    "import matplotlib\n",
    "import numpy\n",
    "import matplotlib.pyplot as plt\n",
    "\n",
    "ntries = 50\n",
    "throws = 25\n",
    "\n",
    "rgen = random.Random()\n",
    "\n",
    "experiments = []\n",
    "for e in range(ntries):\n",
    "    v = 0\n",
    "    for r in range(throws):\n",
    "        v += rgen.randint(0, 1)\n",
    "    experiments.append(v)\n",
    "\n",
    "# plt.plot(list(range(ntries)), experiments)\n",
    "plt.bar(list(range(ntries)), experiments)\n",
    "plt.title('Experimental data')\n",
    "plt.show()"
   ]
  },
  {
   "cell_type": "markdown",
   "metadata": {},
   "source": [
    "Эти данные нам прислал хороший математик. Для этого он воспользовался форматом CSV."
   ]
  },
  {
   "cell_type": "code",
   "execution_count": 16,
   "metadata": {},
   "outputs": [],
   "source": [
    "import pandas\n",
    "\n",
    "df = pandas.DataFrame(data={\n",
    "    'experiments': experiments\n",
    "})\n",
    "\n",
    "df.to_csv(\"experiments.csv\")"
   ]
  },
  {
   "cell_type": "markdown",
   "metadata": {},
   "source": [
    "## Плохой математик\n",
    "\n",
    "Где-то получил эти данные, запортил их, и, чтобы мы его не очень ассоциировали с хорошим, отправил данные в формате HDF5"
   ]
  },
  {
   "cell_type": "code",
   "execution_count": 18,
   "metadata": {},
   "outputs": [],
   "source": [
    "df.loc[df.experiments % 4 == 0, 'experiments'] = 0\n",
    "df.loc[df.experiments % 4 == 1, 'experiments'] = throws\n",
    "df.to_hdf(\"experiments.h5\", \"experiments\")"
   ]
  },
  {
   "cell_type": "markdown",
   "metadata": {},
   "source": [
    "... посмотрел при помощи ViTables, мерзко захихикал и тоже нам отправил.\n",
    "\n",
    "## Мы\n",
    "\n",
    "Получили два набора данных, подозреваем, что что-то не так, но не знаем, какой из них хороший, а какой плохой."
   ]
  },
  {
   "cell_type": "code",
   "execution_count": 19,
   "metadata": {},
   "outputs": [
    {
     "data": {
      "text/plain": [
       "<AxesSubplot:>"
      ]
     },
     "execution_count": 19,
     "metadata": {},
     "output_type": "execute_result"
    },
    {
     "data": {
      "image/png": "[encoded data removed]",
      "text/plain": [
       "<Figure size 432x288 with 1 Axes>"
      ]
     },
     "metadata": {
      "needs_background": "light"
     },
     "output_type": "display_data"
    }
   ],
   "source": [
    "try:\n",
    "    del df\n",
    "except:\n",
    "    pass\n",
    "\n",
    "df1 = pandas.read_csv(\"experiments.csv\")\n",
    "df2 = pandas.read_hdf(\"experiments.h5\")\n",
    "\n",
    "df1['experiments'].plot(kind='bar')"
   ]
  },
  {
   "cell_type": "code",
   "execution_count": 6,
   "metadata": {},
   "outputs": [
    {
     "data": {
      "text/plain": [
       "<AxesSubplot:>"
      ]
     },
     "execution_count": 6,
     "metadata": {},
     "output_type": "execute_result"
    },
    {
     "data": {
      "image/png": "[encoded data removed]",
      "text/plain": [
       "<Figure size 432x288 with 1 Axes>"
      ]
     },
     "metadata": {
      "needs_background": "light"
     },
     "output_type": "display_data"
    }
   ],
   "source": [
    "df2['experiments'].plot(kind='bar')"
   ]
  },
  {
   "cell_type": "markdown",
   "metadata": {},
   "source": [
    "Что-то и правда не сходится. Посмотрим на *плотность распределения*..."
   ]
  },
  {
   "cell_type": "code",
   "execution_count": 20,
   "metadata": {},
   "outputs": [
    {
     "name": "stdout",
     "output_type": "stream",
     "text": [
      "count    50.000000\n",
      "mean     12.960000\n",
      "std       2.457475\n",
      "min       7.000000\n",
      "25%      12.000000\n",
      "50%      13.000000\n",
      "75%      14.000000\n",
      "max      18.000000\n",
      "Name: experiments, dtype: float64\n",
      "count    50.000000\n",
      "mean     12.320000\n",
      "std       8.447775\n",
      "min       0.000000\n",
      "25%       7.750000\n",
      "50%      14.000000\n",
      "75%      15.000000\n",
      "max      25.000000\n",
      "Name: experiments, dtype: float64\n"
     ]
    }
   ],
   "source": [
    "print(df1.experiments.describe())\n",
    "print(df2.experiments.describe())"
   ]
  },
  {
   "cell_type": "code",
   "execution_count": 21,
   "metadata": {},
   "outputs": [
    {
     "data": {
      "text/plain": [
       "<AxesSubplot:ylabel='Density'>"
      ]
     },
     "execution_count": 21,
     "metadata": {},
     "output_type": "execute_result"
    },
    {
     "data": {
      "image/png": "[encoded data removed]",
      "text/plain": [
       "<Figure size 432x288 with 1 Axes>"
      ]
     },
     "metadata": {
      "needs_background": "light"
     },
     "output_type": "display_data"
    }
   ],
   "source": [
    "df12 = pandas.DataFrame(data={\n",
    "    'df1': df1['experiments'],\n",
    "    'df2': df2['experiments'],\n",
    "})\n",
    "\n",
    "df12.plot.kde()"
   ]
  },
  {
   "cell_type": "markdown",
   "metadata": {},
   "source": [
    "Что-то с `df2` с виду не похож на *нормальное распределение*, хотя должен бы...\n",
    "\n",
    "А мы можем это оценить численно, или нет? Можем. При помощи критерия Колмогорова-Смирнова.\n",
    "\n",
    "Гипотеза: данное распределение близко к нормальному.\n",
    "\n",
    "В результате проверки вычисляются два числа — *К-С-статистика* и *P-значение*. Если первое мало или второе велико, мы гипотезу отвергнуть не можем. В противном случае, гипотеза может считаться ошибочной."
   ]
  },
  {
   "cell_type": "code",
   "execution_count": 26,
   "metadata": {},
   "outputs": [
    {
     "name": "stdout",
     "output_type": "stream",
     "text": [
      "KstestResult(statistic=0.1944371109060294, pvalue=0.9989720080381354)\n",
      "KstestResult(statistic=0.012538052238181163, pvalue=0.40820601109531485)\n",
      "KstestResult(statistic=0.24, pvalue=0.11238524845512393)\n",
      "\n",
      "KstestResult(statistic=0.10802988101537325, pvalue=0.5668127749571785)\n",
      "KstestResult(statistic=0.16763101334123087, pvalue=0.10703443913653798)\n"
     ]
    }
   ],
   "source": [
    "from scipy import stats\n",
    "\n",
    "d1 = df12['df1']\n",
    "d2 = df12['df2']\n",
    "\n",
    "print(stats.kstest('norm', 'norm', N=3))\n",
    "print(stats.kstest('norm', 'norm', N=5000))\n",
    "print(stats.kstest(d1, d2))\n",
    "print()\n",
    "\n",
    "# If the K-S statistic is small or the p-value is high, then we cannot reject the hypothesis that the distributions of the two samples are the same.\n",
    "print(stats.kstest(d1, 'norm', (d1.mean(), d1.std()), N=5000))\n",
    "print(stats.kstest(d2, 'norm', (d2.mean(), d2.std()), N=5000))"
   ]
  },
  {
   "cell_type": "markdown",
   "metadata": {},
   "source": [
    "Видим, что для первого распределения *К-С-статистика* ниже, чем для второго, но не намного. Зато *P-значение* для первого заметно выше. Т.е. первое «более нормальное»."
   ]
  }
 ],
 "metadata": {
  "kernelspec": {
   "display_name": "Python 3",
   "language": "python",
   "name": "python3"
  },
  "language_info": {
   "codemirror_mode": {
    "name": "ipython",
    "version": 3
   },
   "file_extension": ".py",
   "mimetype": "text/x-python",
   "name": "python",
   "nbconvert_exporter": "python",
   "pygments_lexer": "ipython3",
   "version": "3.10.4"
  }
 },
 "nbformat": 4,
 "nbformat_minor": 2
}
