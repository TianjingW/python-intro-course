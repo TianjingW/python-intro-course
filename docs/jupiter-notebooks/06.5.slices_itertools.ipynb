{
 "cells": [
  {
   "source": [
    "# Индексы\n",
    "\n",
    "Итак, вот у нас список длины 10"
   ],
   "cell_type": "markdown",
   "metadata": {}
  },
  {
   "cell_type": "code",
   "execution_count": 1,
   "metadata": {},
   "outputs": [
    {
     "output_type": "execute_result",
     "data": {
      "text/plain": [
       "[0, 1, 2, 3, 4, 5, 6, 7, 8, 9]"
      ]
     },
     "metadata": {},
     "execution_count": 1
    }
   ],
   "source": [
    "l = list(range(10))\n",
    "l"
   ]
  },
  {
   "source": [
    "Внезапно его можно (и очень удобно!) индексировать от $[-10, 10)$, считая его -1-й элемент последним. Это правда страсть как удобно, позволяет индексировать с конца, причём не вводя никаких дополнительных конструкций в язык!!!"
   ],
   "cell_type": "markdown",
   "metadata": {}
  },
  {
   "cell_type": "code",
   "execution_count": 2,
   "metadata": {},
   "outputs": [
    {
     "output_type": "stream",
     "name": "stdout",
     "text": [
      "0 9 8\n[0, 1, 2, 3, 4, 5, 6, 7, 8, 9, 0, 1, 2, 3, 4, 5, 6, 7, 8, 9]\n"
     ]
    }
   ],
   "source": [
    "print(l[0], l[-1], l[-2])\n",
    "print([l[i] for i in range(-10, 10)])"
   ]
  },
  {
   "source": [
    "Также списки можно конкатенировать и вставлять в них элементы на заданные позиции"
   ],
   "cell_type": "markdown",
   "metadata": {}
  },
  {
   "cell_type": "code",
   "execution_count": 3,
   "metadata": {},
   "outputs": [
    {
     "output_type": "execute_result",
     "data": {
      "text/plain": [
       "[0, 1, 2, 3, 4, 5, 6, 7, 8, 9, 100, 0, 1, 2, 3, 4, 5, 6, 7, 8, 9]"
      ]
     },
     "metadata": {},
     "execution_count": 3
    }
   ],
   "source": [
    "l += l\n",
    "l.insert(10, 100)\n",
    "l"
   ]
  },
  {
   "source": [
    "И удалять элементы при помощи оператора `del`"
   ],
   "cell_type": "markdown",
   "metadata": {}
  },
  {
   "cell_type": "code",
   "execution_count": 4,
   "metadata": {},
   "outputs": [
    {
     "output_type": "execute_result",
     "data": {
      "text/plain": [
       "[0, 1, 3, 4, 5, 6, 7, 8, 9, 100, 0, 1, 2, 3, 4, 5, 6, 7, 9]"
      ]
     },
     "metadata": {},
     "execution_count": 4
    }
   ],
   "source": [
    "del l[2]\n",
    "del l[-2]\n",
    "l"
   ]
  },
  {
   "source": [
    "# Срезы\n",
    "\n",
    "Ой, тут очень просто. Если есть список `l`, то `l[x:y]` — список из всех его элементов с индексами $[x, y)$. А ещё (нужно нечасто, но когда пригождается, вызывает неистовую радость) `l[x:y:z]` — то же самое, но ещё и с шагом $z$.\n",
    "\n"
   ],
   "cell_type": "markdown",
   "metadata": {}
  },
  {
   "cell_type": "code",
   "execution_count": 5,
   "metadata": {},
   "outputs": [
    {
     "output_type": "stream",
     "name": "stdout",
     "text": [
      "1 [1, 2, 3]\n2 [0, 1, 2, 3]\n3 [0, 1, 2, 3, 4, 5]\n4 [7, 8, 9]\n5 [6, 8]\n5 [9, 7, 5, 3, 1]\n"
     ]
    }
   ],
   "source": [
    "l = list(range(10))  # опять создадим список\n",
    "print(1, l[ 1: 4])  # c [1 по 4) элемент\n",
    "print(2, l[  : 4]) # с начала по 4)\n",
    "print(3, l[  :-4]) # с начала по \"4) с конца\"\n",
    "print(4, l[-3:  ]) # 3 последних\n",
    "\n",
    "i = -4\n",
    "print(5, l[ i:: 2]) # брать из 4 последних с шагом 2\n",
    "print(5, l[::-2]) # брать все с шагом -2 (т.е. задом наперёд)"
   ]
  },
  {
   "cell_type": "code",
   "execution_count": 6,
   "metadata": {},
   "outputs": [
    {
     "output_type": "stream",
     "name": "stdout",
     "text": [
      "1 [0.  0.5 1.  1.5]\n2 [0.  0.5 1.  1.5]\n3 [0.  0.5 1.  1.5]\n4 [0.   0.25 0.5  0.75 1.  ]\n5 [1.e+00 1.e+01 1.e+02 1.e+03 1.e+04]\n"
     ]
    }
   ],
   "source": [
    "import numpy\n",
    "\n",
    "# Вспомним numpy. Можно было одно и то же написать двумя способами\n",
    "print(1, numpy.arange(0, 2, 0.5))\n",
    "print(2, numpy.r_[0:2:0.5])\n",
    "\n",
    "# Это благодаря тому, что у numpy.r_ был переопределён magic-метод __getitem__,\n",
    "# т.е. для своих типов вы тоже можете оперделять индексацию:\n",
    "print(3, numpy.r_.__getitem__(slice(0, 2, 0.5)))\n",
    "\n",
    "# А ещё помните там были linspace и logspace? В этом блокноте они ни при чём,\n",
    "# но лишний раз вспомнить полезно\n",
    "print(4, numpy.linspace(0, 1, 5)) # от 0 до 1, включая концы, равномерно 5 точек\n",
    "print(5, numpy.logspace(0, 4, num=5, base=10)) # равномерные степени 10, всего 5 штук, от 0-й до 4-й включительно"
   ]
  },
  {
   "source": [
    "# Умные счётчики и генераторы из модуля `itertools`"
   ],
   "cell_type": "markdown",
   "metadata": {}
  },
  {
   "cell_type": "code",
   "execution_count": 7,
   "metadata": {},
   "outputs": [
    {
     "output_type": "stream",
     "name": "stdout",
     "text": [
      "count(0)\n(1, 1)\n(2, 1)\n(3, 2)\n(4, 3)\n(5, 5)\n(6, 8)\n"
     ]
    }
   ],
   "source": [
    "import itertools\n",
    "\n",
    "first_6_fibs = [1, 1, 2, 3, 5, 8]\n",
    "\n",
    "# count(x) — как range(x, ∞). А count() — как range(∞)\n",
    "print(itertools.count())\n",
    "\n",
    "# Помните пример с range(1_000_000_000) и list(range(1_000_000_000))?\n",
    "# Компьютер превращался в тыкву только если действительно\n",
    "# эти числа \"достать и поместить в список\".\n",
    "# А так range мог выдавать по одному, сколько душе угодно.\n",
    "# И count тоже может, но не останавливается.\n",
    "for ifi in zip(itertools.count(1), [1, 1, 2, 3, 5, 8]):\n",
    "    print(ifi)"
   ]
  },
  {
   "cell_type": "code",
   "execution_count": 8,
   "metadata": {},
   "outputs": [
    {
     "output_type": "execute_result",
     "data": {
      "text/plain": [
       "[('a', 0, '½'),\n",
       " ('a', 0, '⅓'),\n",
       " ('a', 1, '½'),\n",
       " ('a', 1, '⅓'),\n",
       " ('b', 0, '½'),\n",
       " ('b', 0, '⅓'),\n",
       " ('b', 1, '½'),\n",
       " ('b', 1, '⅓')]"
      ]
     },
     "metadata": {},
     "execution_count": 8
    }
   ],
   "source": [
    "# Другая полезная штука — прямое произведение.\n",
    "# Можно конечно тройной вложенный цикл написать,\n",
    "# но зачем, когда сразу такая чудесная штука есть!\n",
    "\n",
    "list(itertools.product(\n",
    "    ['a', 'b'], range(2), ('½', '⅓')\n",
    "))"
   ]
  },
  {
   "cell_type": "code",
   "execution_count": 9,
   "metadata": {},
   "outputs": [
    {
     "output_type": "stream",
     "name": "stdout",
     "text": [
      "('a', 'b')\n('a', 'c')\n('a', 'd')\n('b', 'c')\n('b', 'd')\n('c', 'd')\n"
     ]
    }
   ],
   "source": [
    "# Ещё полезнее — генерация всех подмножеств заданной мощности\n",
    "for c in itertools.combinations(['a', 'b', 'c', 'd'], 2):\n",
    "    print(c)"
   ]
  },
  {
   "source": [
    "# Как на самом деле работают итераторы и циклы `for`"
   ],
   "cell_type": "markdown",
   "metadata": {}
  },
  {
   "cell_type": "code",
   "execution_count": 10,
   "metadata": {},
   "outputs": [],
   "source": [
    "r = range(10)  # создаём range\n",
    "i = iter(r)  # создаём для него итератор — специальный объект, который может по нему \"бежать\""
   ]
  },
  {
   "cell_type": "code",
   "execution_count": 11,
   "metadata": {},
   "outputs": [
    {
     "output_type": "stream",
     "name": "stdout",
     "text": [
      "1 0\n2 1 2\n3 3\n4 [4, 5, 6, 7, 8, 9]\n5 [0, 1, 2, 3, 4, 5, 6, 7, 8, 9] [0, 1, 2, 3, 4, 5, 6, 7, 8, 9]\n"
     ]
    }
   ],
   "source": [
    "print(1, next(i)) # метод next берёт значение под итератором и сдвигает его на следуюий элемент\n",
    "z = next(i)\n",
    "print(2, z, next(i))\n",
    "print(3, i.__next__()) # опять magic-метод __next__ — т.е. по своим типам тоже можно итерироваться!\n",
    "\n",
    "# А что если мы теперь сделаем по этому итератору list comprehension?\n",
    "print(4, [x for x in i])\n",
    "# Он выдаст оставшиеся. Потому что итератор \"одноразовый\" —\n",
    "# по два раза одно и то же не повторит,\n",
    "# хотя сам range \"многоразовый\" — терпеливо повторит столько, сколько попросят\n",
    "print(5, [x for x in r], [x for x in r])"
   ]
  },
  {
   "source": [
    "### Итак, как работает `for`\n",
    "\n",
    "\n",
    "1. Получает обект `o`: `for e in o:`.\n",
    "2. Делает `i = iter(o)`, а точнее `i = o.__iter__()`.\n",
    "3. Берёт по одному `next(i)`, а точнее `i.__next__()`\n",
    "4. И так, пока не получит при очередном вызове исключение `StopIteration`, тогда останавливается.\n",
    "\n",
    "Попробуем написать свой `for` через `while`"
   ],
   "cell_type": "markdown",
   "metadata": {}
  },
  {
   "cell_type": "code",
   "execution_count": 12,
   "metadata": {},
   "outputs": [
    {
     "output_type": "stream",
     "name": "stdout",
     "text": [
      "0\n1\n2\n3\n4\n5\n6\n7\n8\n9\nDone\n"
     ]
    }
   ],
   "source": [
    "i = iter(r)\n",
    "\n",
    "while True:  # потенциально бесконечный цикл\n",
    "    try:\n",
    "        # конструкция try позволяет \"отлавливать\" ошибки, которые внутри\n",
    "        # неё или вызываемых из неё функций происходят\n",
    "        print(next(i))\n",
    "    except StopIteration:\n",
    "        # когда где-то, например в функции next происходит ошибка\n",
    "        # (в данном случае это предусмотрено), она генерирует исключение,\n",
    "        # и все ф-ции и операторы, которые её вызвали, завершаются, пока не найдётся та,\n",
    "        # которая(ый) это исключение обработает при помощи try...except\n",
    "        print(\"Done\")\n",
    "        break"
   ]
  },
  {
   "source": [
    "А теперь сделаем генератор конечного набора чисел Фибоначчи"
   ],
   "cell_type": "markdown",
   "metadata": {}
  },
  {
   "cell_type": "code",
   "execution_count": 13,
   "metadata": {
    "tags": []
   },
   "outputs": [],
   "source": [
    "class Fib6:    \n",
    "    \"\"\"По объектам этого класса можно итерироваться и получать 6 чисел Фибоначчи\"\"\"\n",
    "\n",
    "    class _Fib6_iter:\n",
    "        \"\"\"Внутренний класс — итератор\"\"\"\n",
    "        def __init__(self):\n",
    "            self.i = 0\n",
    "            self.fibs = first_6_fibs # они у нас выше были\n",
    "        \n",
    "        def __next__(self):\n",
    "            if self.i >= 6:\n",
    "                raise StopIteration()\n",
    "            else:\n",
    "                j = self.i\n",
    "                self.i += 1\n",
    "                return self.fibs[j]\n",
    "\n",
    "    def __iter__(self):\n",
    "        \"\"\"Создать и вернуть итератор\"\"\"\n",
    "        return Fib6._Fib6_iter()"
   ]
  },
  {
   "cell_type": "code",
   "execution_count": 14,
   "metadata": {},
   "outputs": [
    {
     "output_type": "stream",
     "name": "stdout",
     "text": [
      "1\n1\n2\n3\n5\n8\n[1, 1, 2, 3, 5, 8]\n"
     ]
    }
   ],
   "source": [
    "f6 = Fib6()\n",
    "\n",
    "# Просто for — работает!\n",
    "for f in f6:\n",
    "    print(f)\n",
    "\n",
    "# И список из него сделать — тоже работает!\n",
    "print(list(f6))"
   ]
  },
  {
   "cell_type": "code",
   "execution_count": 15,
   "metadata": {},
   "outputs": [
    {
     "output_type": "stream",
     "name": "stdout",
     "text": [
      "1\n1\n2\n3\n5\n8\nDone\n"
     ]
    }
   ],
   "source": [
    "# Ну и при помощи while по нему пробежаться, чтобы ощутить себя ближе\n",
    "# к его \"потрохам\" — ведь теперь мы их сами сделали!\n",
    "\n",
    "f6i = iter(f6)\n",
    "while True:\n",
    "    try:\n",
    "        print(next(f6i))\n",
    "    except StopIteration:\n",
    "        print(\"Done\")\n",
    "        break"
   ]
  },
  {
   "cell_type": "code",
   "execution_count": 16,
   "metadata": {},
   "outputs": [
    {
     "output_type": "stream",
     "name": "stdout",
     "text": [
      "1 1\n2 1\n3 2\n4 3\n5 5\n"
     ]
    }
   ],
   "source": [
    "# А ещё им можно манипулировать при помощи itertools, например,\n",
    "# взять первые 5, пронумеровать их с 1, и выдать пары (номер, число)\n",
    "for i, f in zip(\n",
    "    itertools.count(1),\n",
    "    itertools.islice(f6, 5)\n",
    "):\n",
    "    print(i, f)"
   ]
  }
 ],
 "metadata": {
  "kernelspec": {
   "display_name": "Python 3",
   "language": "python",
   "name": "python3"
  },
  "language_info": {
   "codemirror_mode": {
    "name": "ipython",
    "version": 3
   },
   "file_extension": ".py",
   "mimetype": "text/x-python",
   "name": "python",
   "nbconvert_exporter": "python",
   "pygments_lexer": "ipython3",
   "version": "3.8.6-final"
  }
 },
 "nbformat": 4,
 "nbformat_minor": 4
}